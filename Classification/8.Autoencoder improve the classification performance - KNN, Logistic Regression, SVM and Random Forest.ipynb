{
 "cells": [
  {
   "cell_type": "markdown",
   "id": "29dc40db",
   "metadata": {},
   "source": [
    "# Autoencoder improve the classification performance in baseline method - KNN, Logistic Regression, SVM and Random Forest\n",
    "## Zucheng Han  01.08.2022"
   ]
  },
  {
   "cell_type": "markdown",
   "id": "3d59ea03",
   "metadata": {},
   "source": [
    "## General introduction\n",
    "**<font>\n",
    "Typically, we use traditional and rigid machine learning algorithms as benchmarks. Verify the better performance of fancy machine algorithms supported by advanced technologies such as convolution. However, these traditional machine algorithms can still provide inspiration for us to design new machine learning algorithms or new neural network structures. And sometimes due to computational cost considerations, we can also accept these traditional machine learning algorithms such as support vector machines as a feasible solution in practice.  \n",
    "</font>**\n",
    "\n",
    "**<font>\n",
    "After consideration and discussion, our group finally chose some traditional machine learning algorithms such as KNN, Logistic Regression, SVM and Random Forest as the benchmark. With the help of scikit-learn's python library, we first use train_test_split function to split the training and test sets into 80%, 20%. Then, select the most suitable parameters through GridSearchCV function to test the training set under KFold=5. By testing the performance of algorithm in test set, we record the results as reference.    \n",
    "</font>**\n",
    "    \n",
    "**<font>\n",
    "In fact, in the process of testing the traditional algorithm, we encountered some practical problems, such as the poor performance of the KNN algorithm; in the case of too many input parameters, the calculation time required by the logistic regression and Random Forest is too long. Therefore, in order to appropriately speed up the calculation speed of machine learning algorithms and improve the performance of conventional machine learning algorithms, we designed a simple autoencoder model. The model does not involve convolution process, and only reduces the dimensionality of the image to extract features.   \n",
    "</font>**\n",
    "    "
   ]
  },
  {
   "cell_type": "code",
   "execution_count": 1,
   "id": "c0857b32",
   "metadata": {},
   "outputs": [],
   "source": [
    "from sklearn.neighbors import KNeighborsClassifier\n",
    "from sklearn.linear_model import LogisticRegression\n",
    "from sklearn.ensemble import RandomForestClassifier\n",
    "from sklearn.svm import SVC\n",
    "\n",
    "from sklearn.model_selection import train_test_split, GridSearchCV, KFold\n",
    "from sklearn.preprocessing import StandardScaler\n",
    "from sklearn.pipeline import make_pipeline\n",
    "from sklearn.metrics import classification_report\n",
    "\n",
    "import numpy as np\n",
    "import matplotlib.pyplot as plt\n",
    "from PIL import Image\n",
    "\n",
    "from keras import regularizers\n",
    "from keras.layers import Input, Dense\n",
    "from keras.models import Model\n",
    "from keras.models import load_model\n",
    "\n",
    "import pandas as pd\n",
    "from operator import itemgetter\n",
    "import os"
   ]
  },
  {
   "cell_type": "markdown",
   "id": "71067ed6",
   "metadata": {},
   "source": [
    "Because the big size images such as $255 \\times236$ need long time to compute in the Autoencoder and no significant improve in accuracy. Therefore, the new image size is set in $60 \\times55$. All damage images has be fetched and converted to grey images and save in the txt file."
   ]
  },
  {
   "cell_type": "code",
   "execution_count": 2,
   "id": "467d980b",
   "metadata": {},
   "outputs": [
    {
     "name": "stdout",
     "output_type": "stream",
     "text": [
      "(897, 3300)\n"
     ]
    }
   ],
   "source": [
    "# To simplify the calculation, the images size 60*55 has be converted to grey image and saved as txt file\n",
    "\n",
    "# get images X and label y\n",
    "X = np.loadtxt(\"data.txt\")\n",
    "\n",
    "print(X.shape)\n",
    "\n",
    "dataLabel = pd.read_csv(\"label0-896_final_new.csv\")\n",
    "\n",
    "y = dataLabel.loc[:, \"human_label\"]"
   ]
  },
  {
   "cell_type": "markdown",
   "id": "c1369c78",
   "metadata": {},
   "source": [
    "Give a good trained encoder model in autoencoder and use StandardScaler"
   ]
  },
  {
   "cell_type": "code",
   "execution_count": 3,
   "id": "7e999ab7",
   "metadata": {},
   "outputs": [
    {
     "name": "stdout",
     "output_type": "stream",
     "text": [
      "29/29 [==============================] - 0s 5ms/step\n",
      "(897, 64)\n"
     ]
    }
   ],
   "source": [
    "encoder = load_model('encoder.h5')\n",
    "\n",
    "encoded_fea = encoder.predict(X)\n",
    "    \n",
    "print(encoded_fea.shape)\n",
    "\n",
    "scaler_encoder = StandardScaler()\n",
    "\n",
    "encoded_fea = scaler_encoder.fit_transform(encoded_fea)\n",
    "\n",
    "X_train_encoder, X_test_encoder, y_train_encoder, y_test_encoder = train_test_split(encoded_fea, y, test_size=0.2, random_state=22)"
   ]
  },
  {
   "cell_type": "markdown",
   "id": "3f84a3be",
   "metadata": {},
   "source": [
    "Directly use StandardScaler to transform"
   ]
  },
  {
   "cell_type": "code",
   "execution_count": 4,
   "id": "29eace7c",
   "metadata": {},
   "outputs": [],
   "source": [
    "scaler_only = StandardScaler()\n",
    "\n",
    "X_new = scaler_encoder.fit_transform(X)\n",
    "\n",
    "X_train_only, X_test_only, y_train_only, y_test_only = train_test_split(X_new, y, test_size=0.2, random_state=22)\n",
    "# idel state 12，15,42,22"
   ]
  },
  {
   "cell_type": "code",
   "execution_count": 5,
   "id": "69ee7f95",
   "metadata": {},
   "outputs": [],
   "source": [
    "# set the Kfold\n",
    "# ideal state 20 15\n",
    "cv = KFold(n_splits=5, shuffle=True, random_state=15)"
   ]
  },
  {
   "cell_type": "markdown",
   "id": "8b4f1317",
   "metadata": {},
   "source": [
    "## Compare knn and autoencoder+knn"
   ]
  },
  {
   "cell_type": "markdown",
   "id": "87b413f1",
   "metadata": {},
   "source": [
    "**<font>\n",
    "As the typical non-parametric classification method, the K - Nearest Neighbor algorithm is a very popular benchmark algorithm. The classification of a data point is determined by its surrounding neighbors.\n",
    "</font>**\n",
    "\n",
    "**<font>\n",
    "In KNN, we flatten the input image data first, then normalize and normalize it. By calculating the shortest Euclidean distance between different input image datasets as the criterion for judging neighbors.\n",
    "</font>**"
   ]
  },
  {
   "cell_type": "code",
   "execution_count": 6,
   "id": "bae53ecc",
   "metadata": {},
   "outputs": [
    {
     "name": "stdout",
     "output_type": "stream",
     "text": [
      "Fitting 5 folds for each of 1 candidates, totalling 5 fits\n",
      "[CV 1/5] END ..................................., score=0.514 total time=   0.0s\n",
      "[CV 2/5] END ..................................., score=0.438 total time=   0.0s\n",
      "[CV 3/5] END ..................................., score=0.469 total time=   0.0s\n",
      "[CV 4/5] END ..................................., score=0.441 total time=   0.0s\n",
      "[CV 5/5] END ..................................., score=0.315 total time=   0.0s\n",
      "Fitting 5 folds for each of 1 candidates, totalling 5 fits\n",
      "[CV 1/5] END ..................................., score=0.708 total time=   0.0s\n",
      "[CV 2/5] END ..................................., score=0.611 total time=   0.0s\n",
      "[CV 3/5] END ..................................., score=0.657 total time=   0.0s\n",
      "[CV 4/5] END ..................................., score=0.699 total time=   0.0s\n",
      "[CV 5/5] END ..................................., score=0.615 total time=   0.0s\n"
     ]
    },
    {
     "data": {
      "text/html": [
       "<style>#sk-container-id-1 {color: black;background-color: white;}#sk-container-id-1 pre{padding: 0;}#sk-container-id-1 div.sk-toggleable {background-color: white;}#sk-container-id-1 label.sk-toggleable__label {cursor: pointer;display: block;width: 100%;margin-bottom: 0;padding: 0.3em;box-sizing: border-box;text-align: center;}#sk-container-id-1 label.sk-toggleable__label-arrow:before {content: \"▸\";float: left;margin-right: 0.25em;color: #696969;}#sk-container-id-1 label.sk-toggleable__label-arrow:hover:before {color: black;}#sk-container-id-1 div.sk-estimator:hover label.sk-toggleable__label-arrow:before {color: black;}#sk-container-id-1 div.sk-toggleable__content {max-height: 0;max-width: 0;overflow: hidden;text-align: left;background-color: #f0f8ff;}#sk-container-id-1 div.sk-toggleable__content pre {margin: 0.2em;color: black;border-radius: 0.25em;background-color: #f0f8ff;}#sk-container-id-1 input.sk-toggleable__control:checked~div.sk-toggleable__content {max-height: 200px;max-width: 100%;overflow: auto;}#sk-container-id-1 input.sk-toggleable__control:checked~label.sk-toggleable__label-arrow:before {content: \"▾\";}#sk-container-id-1 div.sk-estimator input.sk-toggleable__control:checked~label.sk-toggleable__label {background-color: #d4ebff;}#sk-container-id-1 div.sk-label input.sk-toggleable__control:checked~label.sk-toggleable__label {background-color: #d4ebff;}#sk-container-id-1 input.sk-hidden--visually {border: 0;clip: rect(1px 1px 1px 1px);clip: rect(1px, 1px, 1px, 1px);height: 1px;margin: -1px;overflow: hidden;padding: 0;position: absolute;width: 1px;}#sk-container-id-1 div.sk-estimator {font-family: monospace;background-color: #f0f8ff;border: 1px dotted black;border-radius: 0.25em;box-sizing: border-box;margin-bottom: 0.5em;}#sk-container-id-1 div.sk-estimator:hover {background-color: #d4ebff;}#sk-container-id-1 div.sk-parallel-item::after {content: \"\";width: 100%;border-bottom: 1px solid gray;flex-grow: 1;}#sk-container-id-1 div.sk-label:hover label.sk-toggleable__label {background-color: #d4ebff;}#sk-container-id-1 div.sk-serial::before {content: \"\";position: absolute;border-left: 1px solid gray;box-sizing: border-box;top: 0;bottom: 0;left: 50%;z-index: 0;}#sk-container-id-1 div.sk-serial {display: flex;flex-direction: column;align-items: center;background-color: white;padding-right: 0.2em;padding-left: 0.2em;position: relative;}#sk-container-id-1 div.sk-item {position: relative;z-index: 1;}#sk-container-id-1 div.sk-parallel {display: flex;align-items: stretch;justify-content: center;background-color: white;position: relative;}#sk-container-id-1 div.sk-item::before, #sk-container-id-1 div.sk-parallel-item::before {content: \"\";position: absolute;border-left: 1px solid gray;box-sizing: border-box;top: 0;bottom: 0;left: 50%;z-index: -1;}#sk-container-id-1 div.sk-parallel-item {display: flex;flex-direction: column;z-index: 1;position: relative;background-color: white;}#sk-container-id-1 div.sk-parallel-item:first-child::after {align-self: flex-end;width: 50%;}#sk-container-id-1 div.sk-parallel-item:last-child::after {align-self: flex-start;width: 50%;}#sk-container-id-1 div.sk-parallel-item:only-child::after {width: 0;}#sk-container-id-1 div.sk-dashed-wrapped {border: 1px dashed gray;margin: 0 0.4em 0.5em 0.4em;box-sizing: border-box;padding-bottom: 0.4em;background-color: white;}#sk-container-id-1 div.sk-label label {font-family: monospace;font-weight: bold;display: inline-block;line-height: 1.2em;}#sk-container-id-1 div.sk-label-container {text-align: center;}#sk-container-id-1 div.sk-container {/* jupyter's `normalize.less` sets `[hidden] { display: none; }` but bootstrap.min.css set `[hidden] { display: none !important; }` so we also need the `!important` here to be able to override the default hidden behavior on the sphinx rendered scikit-learn.org. See: https://github.com/scikit-learn/scikit-learn/issues/21755 */display: inline-block !important;position: relative;}#sk-container-id-1 div.sk-text-repr-fallback {display: none;}</style><div id=\"sk-container-id-1\" class=\"sk-top-container\"><div class=\"sk-text-repr-fallback\"><pre>GridSearchCV(cv=KFold(n_splits=5, random_state=15, shuffle=True),\n",
       "             estimator=KNeighborsClassifier(), param_grid={}, verbose=3)</pre><b>In a Jupyter environment, please rerun this cell to show the HTML representation or trust the notebook. <br />On GitHub, the HTML representation is unable to render, please try loading this page with nbviewer.org.</b></div><div class=\"sk-container\" hidden><div class=\"sk-item sk-dashed-wrapped\"><div class=\"sk-label-container\"><div class=\"sk-label sk-toggleable\"><input class=\"sk-toggleable__control sk-hidden--visually\" id=\"sk-estimator-id-1\" type=\"checkbox\" ><label for=\"sk-estimator-id-1\" class=\"sk-toggleable__label sk-toggleable__label-arrow\">GridSearchCV</label><div class=\"sk-toggleable__content\"><pre>GridSearchCV(cv=KFold(n_splits=5, random_state=15, shuffle=True),\n",
       "             estimator=KNeighborsClassifier(), param_grid={}, verbose=3)</pre></div></div></div><div class=\"sk-parallel\"><div class=\"sk-parallel-item\"><div class=\"sk-item\"><div class=\"sk-label-container\"><div class=\"sk-label sk-toggleable\"><input class=\"sk-toggleable__control sk-hidden--visually\" id=\"sk-estimator-id-2\" type=\"checkbox\" ><label for=\"sk-estimator-id-2\" class=\"sk-toggleable__label sk-toggleable__label-arrow\">estimator: KNeighborsClassifier</label><div class=\"sk-toggleable__content\"><pre>KNeighborsClassifier()</pre></div></div></div><div class=\"sk-serial\"><div class=\"sk-item\"><div class=\"sk-estimator sk-toggleable\"><input class=\"sk-toggleable__control sk-hidden--visually\" id=\"sk-estimator-id-3\" type=\"checkbox\" ><label for=\"sk-estimator-id-3\" class=\"sk-toggleable__label sk-toggleable__label-arrow\">KNeighborsClassifier</label><div class=\"sk-toggleable__content\"><pre>KNeighborsClassifier()</pre></div></div></div></div></div></div></div></div></div></div>"
      ],
      "text/plain": [
       "GridSearchCV(cv=KFold(n_splits=5, random_state=15, shuffle=True),\n",
       "             estimator=KNeighborsClassifier(), param_grid={}, verbose=3)"
      ]
     },
     "execution_count": 6,
     "metadata": {},
     "output_type": "execute_result"
    }
   ],
   "source": [
    "# knn is simple method, so do not need to adjust parameters\n",
    "param_grid = {}\n",
    "\n",
    "grid_only_knn = GridSearchCV(estimator=KNeighborsClassifier(n_neighbors=5, weights=\"uniform\"),param_grid=param_grid,cv=cv,verbose=3)\n",
    "\n",
    "grid_autoencoder_knn = GridSearchCV(estimator=KNeighborsClassifier(n_neighbors=5, weights=\"uniform\"),param_grid=param_grid,cv=cv,verbose=3)\n",
    "\n",
    "# fit the only knn method\n",
    "grid_only_knn.fit(X_train_only,y_train_only)\n",
    "\n",
    "# fit the autoencoder+knn method\n",
    "grid_autoencoder_knn.fit(X_train_encoder, y_train_encoder)"
   ]
  },
  {
   "cell_type": "markdown",
   "id": "b4b704de",
   "metadata": {},
   "source": [
    "Generate the result"
   ]
  },
  {
   "cell_type": "code",
   "execution_count": 7,
   "id": "4b4ea07a",
   "metadata": {},
   "outputs": [
    {
     "name": "stdout",
     "output_type": "stream",
     "text": [
      "0.4888888888888889 0.6777777777777778\n",
      "0.4350330225330225 0.6582944832944834\n",
      "only knn method report\n",
      "              precision    recall  f1-score   support\n",
      "\n",
      "           1       0.41      0.77      0.54        53\n",
      "           2       0.67      0.31      0.42        13\n",
      "           3       1.00      0.23      0.37        53\n",
      "           4       0.49      0.51      0.50        61\n",
      "\n",
      "    accuracy                           0.49       180\n",
      "   macro avg       0.64      0.45      0.46       180\n",
      "weighted avg       0.63      0.49      0.47       180\n",
      "\n",
      "autoencoder+knn method report\n",
      "              precision    recall  f1-score   support\n",
      "\n",
      "           1       0.58      0.68      0.63        53\n",
      "           2       0.50      0.46      0.48        13\n",
      "           3       0.98      0.83      0.90        53\n",
      "           4       0.59      0.59      0.59        61\n",
      "\n",
      "    accuracy                           0.68       180\n",
      "   macro avg       0.66      0.64      0.65       180\n",
      "weighted avg       0.69      0.68      0.68       180\n",
      "\n"
     ]
    }
   ],
   "source": [
    "# show the best score\n",
    "final_score1 = grid_only_knn.best_estimator_.score(X_test_only,y_test_only)\n",
    "\n",
    "final_score2 = grid_autoencoder_knn.best_estimator_.score(X_test_encoder, y_test_encoder)\n",
    "\n",
    "print(final_score1, final_score2)\n",
    "\n",
    "# show the average best score in 5 Kfold\n",
    "print(grid_only_knn.best_score_, grid_autoencoder_knn.best_score_)\n",
    "\n",
    "# show detailed teport\n",
    "print(\"only knn method report\")\n",
    "print(classification_report(y_test_only, grid_only_knn.predict(X_test_only)))\n",
    "\n",
    "print(\"autoencoder+knn method report\")\n",
    "print(classification_report(y_test_encoder, grid_autoencoder_knn.predict(X_test_encoder)))"
   ]
  },
  {
   "cell_type": "markdown",
   "id": "3995defb",
   "metadata": {},
   "source": [
    "Draw the graph"
   ]
  },
  {
   "cell_type": "code",
   "execution_count": 8,
   "id": "ff02ef0a",
   "metadata": {},
   "outputs": [
    {
     "data": {
      "image/png": "[encoded data removed]",
      "text/plain": [
       "<Figure size 432x288 with 1 Axes>"
      ]
     },
     "metadata": {
      "needs_background": "light"
     },
     "output_type": "display_data"
    }
   ],
   "source": [
    "#, \"split4_test_score\"\n",
    "Kfold_score_name = [\"split0_test_score\", \"split1_test_score\", \"split2_test_score\", \"split3_test_score\", \"split4_test_score\"]\n",
    "#print(grid_only_knn.cv_results_)\n",
    "y_accuracy_only_knn = np.array(itemgetter(*Kfold_score_name)(grid_only_knn.cv_results_)).reshape(1,5).flatten()\n",
    "#, 4\n",
    "x_kfold = [0, 1, 2, 3, 4]\n",
    "\n",
    "y_accuracy_autoencoder_knn = np.array(itemgetter(*Kfold_score_name)(grid_autoencoder_knn.cv_results_)).reshape(1,5).flatten()\n",
    "\n",
    "#print(grid_only_knn.cv_results_[\"split0_test_score\"])\n",
    "\n",
    "plt.figure(\"Compare knn and autoencoder+knn\")\n",
    "plt.plot(x_kfold, y_accuracy_only_knn, 'g+-', label='knn')\n",
    "\n",
    "plt.plot(x_kfold, y_accuracy_autoencoder_knn, 'bo-', label='autoencoder+knn')\n",
    "plt.legend()\n",
    "plt.xticks(np.arange(0,5,1))\n",
    "plt.xlabel('Kfold')\n",
    "plt.ylabel('Accuracy score')\n",
    "plt.title(\"Compare knn and autoencoder+knn\")\n",
    "plt.show()"
   ]
  },
  {
   "cell_type": "markdown",
   "id": "4b4db6b4",
   "metadata": {},
   "source": [
    "## Compare Logistic Regression and autoencoder+Logistic Regression"
   ]
  },
  {
   "cell_type": "markdown",
   "id": "4150ea2e",
   "metadata": {},
   "source": [
    "**<font>\n",
    "Although image damage classification is more of a non-linear problem, we still want to choose linear logistic regression as a benchmark, which is very common in mathematical statistics. In addition, the performance of linear logistic regression can also be compared to support vector machines which can handle nonlinear problems.\n",
    "</font>**\n",
    "\n",
    "**<font>\n",
    "Similar to the way of data processing in KNN, we first flat the image data, then normalize the image data as input. And the output is the label of the data. In this way we form the image pixels as input, multiply by the correlation coefficient to get a polynomial equation. Use polynomials to determine the type of fault damage.\n",
    "</font>**"
   ]
  },
  {
   "cell_type": "code",
   "execution_count": 9,
   "id": "380ef049",
   "metadata": {},
   "outputs": [
    {
     "name": "stdout",
     "output_type": "stream",
     "text": [
      "Fitting 5 folds for each of 1 candidates, totalling 5 fits\n",
      "[CV 1/5] END ..................................., score=0.514 total time= 1.7min\n",
      "[CV 2/5] END ..................................., score=0.583 total time= 1.7min\n",
      "[CV 3/5] END ..................................., score=0.636 total time= 1.5min\n",
      "[CV 4/5] END ..................................., score=0.566 total time= 1.5min\n",
      "[CV 5/5] END ..................................., score=0.538 total time= 1.5min\n",
      "Fitting 5 folds for each of 1 candidates, totalling 5 fits\n",
      "[CV 1/5] END ..................................., score=0.639 total time=   0.2s\n",
      "[CV 2/5] END ..................................., score=0.625 total time=   0.2s\n",
      "[CV 3/5] END ..................................., score=0.657 total time=   0.2s\n",
      "[CV 4/5] END ..................................., score=0.678 total time=   0.2s\n",
      "[CV 5/5] END ..................................., score=0.643 total time=   0.2s\n"
     ]
    },
    {
     "data": {
      "text/html": [
       "<style>#sk-container-id-2 {color: black;background-color: white;}#sk-container-id-2 pre{padding: 0;}#sk-container-id-2 div.sk-toggleable {background-color: white;}#sk-container-id-2 label.sk-toggleable__label {cursor: pointer;display: block;width: 100%;margin-bottom: 0;padding: 0.3em;box-sizing: border-box;text-align: center;}#sk-container-id-2 label.sk-toggleable__label-arrow:before {content: \"▸\";float: left;margin-right: 0.25em;color: #696969;}#sk-container-id-2 label.sk-toggleable__label-arrow:hover:before {color: black;}#sk-container-id-2 div.sk-estimator:hover label.sk-toggleable__label-arrow:before {color: black;}#sk-container-id-2 div.sk-toggleable__content {max-height: 0;max-width: 0;overflow: hidden;text-align: left;background-color: #f0f8ff;}#sk-container-id-2 div.sk-toggleable__content pre {margin: 0.2em;color: black;border-radius: 0.25em;background-color: #f0f8ff;}#sk-container-id-2 input.sk-toggleable__control:checked~div.sk-toggleable__content {max-height: 200px;max-width: 100%;overflow: auto;}#sk-container-id-2 input.sk-toggleable__control:checked~label.sk-toggleable__label-arrow:before {content: \"▾\";}#sk-container-id-2 div.sk-estimator input.sk-toggleable__control:checked~label.sk-toggleable__label {background-color: #d4ebff;}#sk-container-id-2 div.sk-label input.sk-toggleable__control:checked~label.sk-toggleable__label {background-color: #d4ebff;}#sk-container-id-2 input.sk-hidden--visually {border: 0;clip: rect(1px 1px 1px 1px);clip: rect(1px, 1px, 1px, 1px);height: 1px;margin: -1px;overflow: hidden;padding: 0;position: absolute;width: 1px;}#sk-container-id-2 div.sk-estimator {font-family: monospace;background-color: #f0f8ff;border: 1px dotted black;border-radius: 0.25em;box-sizing: border-box;margin-bottom: 0.5em;}#sk-container-id-2 div.sk-estimator:hover {background-color: #d4ebff;}#sk-container-id-2 div.sk-parallel-item::after {content: \"\";width: 100%;border-bottom: 1px solid gray;flex-grow: 1;}#sk-container-id-2 div.sk-label:hover label.sk-toggleable__label {background-color: #d4ebff;}#sk-container-id-2 div.sk-serial::before {content: \"\";position: absolute;border-left: 1px solid gray;box-sizing: border-box;top: 0;bottom: 0;left: 50%;z-index: 0;}#sk-container-id-2 div.sk-serial {display: flex;flex-direction: column;align-items: center;background-color: white;padding-right: 0.2em;padding-left: 0.2em;position: relative;}#sk-container-id-2 div.sk-item {position: relative;z-index: 1;}#sk-container-id-2 div.sk-parallel {display: flex;align-items: stretch;justify-content: center;background-color: white;position: relative;}#sk-container-id-2 div.sk-item::before, #sk-container-id-2 div.sk-parallel-item::before {content: \"\";position: absolute;border-left: 1px solid gray;box-sizing: border-box;top: 0;bottom: 0;left: 50%;z-index: -1;}#sk-container-id-2 div.sk-parallel-item {display: flex;flex-direction: column;z-index: 1;position: relative;background-color: white;}#sk-container-id-2 div.sk-parallel-item:first-child::after {align-self: flex-end;width: 50%;}#sk-container-id-2 div.sk-parallel-item:last-child::after {align-self: flex-start;width: 50%;}#sk-container-id-2 div.sk-parallel-item:only-child::after {width: 0;}#sk-container-id-2 div.sk-dashed-wrapped {border: 1px dashed gray;margin: 0 0.4em 0.5em 0.4em;box-sizing: border-box;padding-bottom: 0.4em;background-color: white;}#sk-container-id-2 div.sk-label label {font-family: monospace;font-weight: bold;display: inline-block;line-height: 1.2em;}#sk-container-id-2 div.sk-label-container {text-align: center;}#sk-container-id-2 div.sk-container {/* jupyter's `normalize.less` sets `[hidden] { display: none; }` but bootstrap.min.css set `[hidden] { display: none !important; }` so we also need the `!important` here to be able to override the default hidden behavior on the sphinx rendered scikit-learn.org. See: https://github.com/scikit-learn/scikit-learn/issues/21755 */display: inline-block !important;position: relative;}#sk-container-id-2 div.sk-text-repr-fallback {display: none;}</style><div id=\"sk-container-id-2\" class=\"sk-top-container\"><div class=\"sk-text-repr-fallback\"><pre>GridSearchCV(cv=KFold(n_splits=5, random_state=15, shuffle=True),\n",
       "             estimator=LogisticRegression(C=1, max_iter=4000, random_state=42,\n",
       "                                          solver=&#x27;sag&#x27;),\n",
       "             param_grid={}, verbose=3)</pre><b>In a Jupyter environment, please rerun this cell to show the HTML representation or trust the notebook. <br />On GitHub, the HTML representation is unable to render, please try loading this page with nbviewer.org.</b></div><div class=\"sk-container\" hidden><div class=\"sk-item sk-dashed-wrapped\"><div class=\"sk-label-container\"><div class=\"sk-label sk-toggleable\"><input class=\"sk-toggleable__control sk-hidden--visually\" id=\"sk-estimator-id-4\" type=\"checkbox\" ><label for=\"sk-estimator-id-4\" class=\"sk-toggleable__label sk-toggleable__label-arrow\">GridSearchCV</label><div class=\"sk-toggleable__content\"><pre>GridSearchCV(cv=KFold(n_splits=5, random_state=15, shuffle=True),\n",
       "             estimator=LogisticRegression(C=1, max_iter=4000, random_state=42,\n",
       "                                          solver=&#x27;sag&#x27;),\n",
       "             param_grid={}, verbose=3)</pre></div></div></div><div class=\"sk-parallel\"><div class=\"sk-parallel-item\"><div class=\"sk-item\"><div class=\"sk-label-container\"><div class=\"sk-label sk-toggleable\"><input class=\"sk-toggleable__control sk-hidden--visually\" id=\"sk-estimator-id-5\" type=\"checkbox\" ><label for=\"sk-estimator-id-5\" class=\"sk-toggleable__label sk-toggleable__label-arrow\">estimator: LogisticRegression</label><div class=\"sk-toggleable__content\"><pre>LogisticRegression(C=1, max_iter=4000, random_state=42, solver=&#x27;sag&#x27;)</pre></div></div></div><div class=\"sk-serial\"><div class=\"sk-item\"><div class=\"sk-estimator sk-toggleable\"><input class=\"sk-toggleable__control sk-hidden--visually\" id=\"sk-estimator-id-6\" type=\"checkbox\" ><label for=\"sk-estimator-id-6\" class=\"sk-toggleable__label sk-toggleable__label-arrow\">LogisticRegression</label><div class=\"sk-toggleable__content\"><pre>LogisticRegression(C=1, max_iter=4000, random_state=42, solver=&#x27;sag&#x27;)</pre></div></div></div></div></div></div></div></div></div></div>"
      ],
      "text/plain": [
       "GridSearchCV(cv=KFold(n_splits=5, random_state=15, shuffle=True),\n",
       "             estimator=LogisticRegression(C=1, max_iter=4000, random_state=42,\n",
       "                                          solver='sag'),\n",
       "             param_grid={}, verbose=3)"
      ]
     },
     "execution_count": 9,
     "metadata": {},
     "output_type": "execute_result"
    }
   ],
   "source": [
    "# has choose the best parameters\n",
    "param_grid = {}\n",
    "\n",
    "grid_only_lr = GridSearchCV(estimator=LogisticRegression(C=1, max_iter=4000, random_state=42, solver='sag'),param_grid=param_grid, cv=cv,verbose=3)\n",
    "\n",
    "grid_auto_lr = GridSearchCV(estimator=LogisticRegression(C=1, max_iter=4000, random_state=42, solver='sag'),param_grid=param_grid, cv=cv,verbose=3)\n",
    "\n",
    "# fit the only lr method\n",
    "grid_only_lr.fit(X_train_only,y_train_only)\n",
    "\n",
    "# fit the autoencoder+lr method\n",
    "grid_auto_lr.fit(X_train_encoder, y_train_encoder)"
   ]
  },
  {
   "cell_type": "markdown",
   "id": "7b73bcc0",
   "metadata": {},
   "source": [
    "Generate the result"
   ]
  },
  {
   "cell_type": "code",
   "execution_count": 10,
   "id": "e523e168",
   "metadata": {},
   "outputs": [
    {
     "name": "stdout",
     "output_type": "stream",
     "text": [
      "0.5444444444444444 0.6555555555555556\n",
      "0.5676961926961926 0.6485819735819736\n",
      "only Logistic Regression method report\n",
      "              precision    recall  f1-score   support\n",
      "\n",
      "           1       0.45      0.47      0.46        53\n",
      "           2       0.19      0.31      0.24        13\n",
      "           3       0.88      0.79      0.83        53\n",
      "           4       0.49      0.44      0.47        61\n",
      "\n",
      "    accuracy                           0.54       180\n",
      "   macro avg       0.50      0.50      0.50       180\n",
      "weighted avg       0.57      0.54      0.55       180\n",
      "\n",
      "autoencoder+Logistic Regression method report\n",
      "              precision    recall  f1-score   support\n",
      "\n",
      "           1       0.64      0.47      0.54        53\n",
      "           2       0.50      0.46      0.48        13\n",
      "           3       0.87      0.91      0.89        53\n",
      "           4       0.53      0.64      0.58        61\n",
      "\n",
      "    accuracy                           0.66       180\n",
      "   macro avg       0.64      0.62      0.62       180\n",
      "weighted avg       0.66      0.66      0.65       180\n",
      "\n"
     ]
    }
   ],
   "source": [
    "# show the best score\n",
    "final_score1 = grid_only_lr.best_estimator_.score(X_test_only,y_test_only)\n",
    "\n",
    "final_score2 = grid_auto_lr.best_estimator_.score(X_test_encoder, y_test_encoder)\n",
    "\n",
    "print(final_score1, final_score2)\n",
    "\n",
    "# show the average best score in 5 Kfold\n",
    "print(grid_only_lr.best_score_, grid_auto_lr.best_score_)\n",
    "\n",
    "# show detailed teport\n",
    "print(\"only Logistic Regression method report\")\n",
    "print(classification_report(y_test_only, grid_only_lr.predict(X_test_only)))\n",
    "\n",
    "print(\"autoencoder+Logistic Regression method report\")\n",
    "print(classification_report(y_test_encoder, grid_auto_lr.predict(X_test_encoder)))"
   ]
  },
  {
   "cell_type": "markdown",
   "id": "315a1bae",
   "metadata": {},
   "source": [
    "Draw the graph"
   ]
  },
  {
   "cell_type": "code",
   "execution_count": 11,
   "id": "82f5208c",
   "metadata": {},
   "outputs": [
    {
     "data": {
      "image/png": "[encoded data removed]",
      "text/plain": [
       "<Figure size 432x288 with 1 Axes>"
      ]
     },
     "metadata": {
      "needs_background": "light"
     },
     "output_type": "display_data"
    }
   ],
   "source": [
    "#, \"split4_test_score\"\n",
    "Kfold_score_name = [\"split0_test_score\", \"split1_test_score\", \"split2_test_score\", \"split3_test_score\", \"split4_test_score\"]\n",
    "#print(grid_only_knn.cv_results_)\n",
    "y_accuracy_only_lr = np.array(itemgetter(*Kfold_score_name)(grid_only_lr.cv_results_)).reshape(1,5).flatten()\n",
    "x_kfold = [0, 1, 2, 3, 4]\n",
    "\n",
    "y_accuracy_auto_lr = np.array(itemgetter(*Kfold_score_name)(grid_auto_lr.cv_results_)).reshape(1,5).flatten()\n",
    "\n",
    "#print(grid_only_knn.cv_results_[\"split0_test_score\"])\n",
    "\n",
    "plt.figure(\"Compare Logistic Regression and autoencoder+Logistic Regression\")\n",
    "plt.plot(x_kfold, y_accuracy_only_lr, 'g+-', label='Logistic Regression')\n",
    "\n",
    "plt.plot(x_kfold, y_accuracy_auto_lr, 'bo-', label='autoencoder+Logistic Regression')\n",
    "plt.legend()\n",
    "plt.xticks(np.arange(0,5,1))\n",
    "plt.xlabel('Kfold')\n",
    "plt.ylabel('Accuracy score')\n",
    "plt.title(\"Compare Logistic Regression and autoencoder+Logistic Regression\")\n",
    "plt.show()"
   ]
  },
  {
   "cell_type": "markdown",
   "id": "53f9ecc5",
   "metadata": {},
   "source": [
    "## Compare SVM and autoencoder+SVM"
   ]
  },
  {
   "cell_type": "markdown",
   "id": "5dee49ed",
   "metadata": {},
   "source": [
    "**<font>\n",
    "Through the kernel trick, the SVM can efficiently execute in non-linear classification. And it can implicitly map the preprocessed inputs into initial images with high-dimensional feature spaces. Therefore, we believe that SVM can achieve relatively good performance among traditional machine learning algorithms as benchmarks.\n",
    "</font>**\n",
    "\n",
    "**<font>\n",
    "Similarly, the normalized flat image data is used as input, and the output is the label of the image.\n",
    "</font>**"
   ]
  },
  {
   "cell_type": "code",
   "execution_count": 12,
   "id": "ba1b9afe",
   "metadata": {},
   "outputs": [
    {
     "name": "stdout",
     "output_type": "stream",
     "text": [
      "Fitting 5 folds for each of 1 candidates, totalling 5 fits\n",
      "[CV 1/5] END ..................................., score=0.688 total time=   0.4s\n",
      "[CV 2/5] END ..................................., score=0.660 total time=   0.4s\n",
      "[CV 3/5] END ..................................., score=0.650 total time=   0.4s\n",
      "[CV 4/5] END ..................................., score=0.678 total time=   0.4s\n",
      "[CV 5/5] END ..................................., score=0.601 total time=   0.4s\n",
      "Fitting 5 folds for each of 1 candidates, totalling 5 fits\n",
      "[CV 1/5] END ..................................., score=0.701 total time=   0.0s\n",
      "[CV 2/5] END ..................................., score=0.674 total time=   0.0s\n",
      "[CV 3/5] END ..................................., score=0.706 total time=   0.0s\n",
      "[CV 4/5] END ..................................., score=0.706 total time=   0.0s\n",
      "[CV 5/5] END ..................................., score=0.657 total time=   0.0s\n"
     ]
    },
    {
     "data": {
      "text/html": [
       "<style>#sk-container-id-3 {color: black;background-color: white;}#sk-container-id-3 pre{padding: 0;}#sk-container-id-3 div.sk-toggleable {background-color: white;}#sk-container-id-3 label.sk-toggleable__label {cursor: pointer;display: block;width: 100%;margin-bottom: 0;padding: 0.3em;box-sizing: border-box;text-align: center;}#sk-container-id-3 label.sk-toggleable__label-arrow:before {content: \"▸\";float: left;margin-right: 0.25em;color: #696969;}#sk-container-id-3 label.sk-toggleable__label-arrow:hover:before {color: black;}#sk-container-id-3 div.sk-estimator:hover label.sk-toggleable__label-arrow:before {color: black;}#sk-container-id-3 div.sk-toggleable__content {max-height: 0;max-width: 0;overflow: hidden;text-align: left;background-color: #f0f8ff;}#sk-container-id-3 div.sk-toggleable__content pre {margin: 0.2em;color: black;border-radius: 0.25em;background-color: #f0f8ff;}#sk-container-id-3 input.sk-toggleable__control:checked~div.sk-toggleable__content {max-height: 200px;max-width: 100%;overflow: auto;}#sk-container-id-3 input.sk-toggleable__control:checked~label.sk-toggleable__label-arrow:before {content: \"▾\";}#sk-container-id-3 div.sk-estimator input.sk-toggleable__control:checked~label.sk-toggleable__label {background-color: #d4ebff;}#sk-container-id-3 div.sk-label input.sk-toggleable__control:checked~label.sk-toggleable__label {background-color: #d4ebff;}#sk-container-id-3 input.sk-hidden--visually {border: 0;clip: rect(1px 1px 1px 1px);clip: rect(1px, 1px, 1px, 1px);height: 1px;margin: -1px;overflow: hidden;padding: 0;position: absolute;width: 1px;}#sk-container-id-3 div.sk-estimator {font-family: monospace;background-color: #f0f8ff;border: 1px dotted black;border-radius: 0.25em;box-sizing: border-box;margin-bottom: 0.5em;}#sk-container-id-3 div.sk-estimator:hover {background-color: #d4ebff;}#sk-container-id-3 div.sk-parallel-item::after {content: \"\";width: 100%;border-bottom: 1px solid gray;flex-grow: 1;}#sk-container-id-3 div.sk-label:hover label.sk-toggleable__label {background-color: #d4ebff;}#sk-container-id-3 div.sk-serial::before {content: \"\";position: absolute;border-left: 1px solid gray;box-sizing: border-box;top: 0;bottom: 0;left: 50%;z-index: 0;}#sk-container-id-3 div.sk-serial {display: flex;flex-direction: column;align-items: center;background-color: white;padding-right: 0.2em;padding-left: 0.2em;position: relative;}#sk-container-id-3 div.sk-item {position: relative;z-index: 1;}#sk-container-id-3 div.sk-parallel {display: flex;align-items: stretch;justify-content: center;background-color: white;position: relative;}#sk-container-id-3 div.sk-item::before, #sk-container-id-3 div.sk-parallel-item::before {content: \"\";position: absolute;border-left: 1px solid gray;box-sizing: border-box;top: 0;bottom: 0;left: 50%;z-index: -1;}#sk-container-id-3 div.sk-parallel-item {display: flex;flex-direction: column;z-index: 1;position: relative;background-color: white;}#sk-container-id-3 div.sk-parallel-item:first-child::after {align-self: flex-end;width: 50%;}#sk-container-id-3 div.sk-parallel-item:last-child::after {align-self: flex-start;width: 50%;}#sk-container-id-3 div.sk-parallel-item:only-child::after {width: 0;}#sk-container-id-3 div.sk-dashed-wrapped {border: 1px dashed gray;margin: 0 0.4em 0.5em 0.4em;box-sizing: border-box;padding-bottom: 0.4em;background-color: white;}#sk-container-id-3 div.sk-label label {font-family: monospace;font-weight: bold;display: inline-block;line-height: 1.2em;}#sk-container-id-3 div.sk-label-container {text-align: center;}#sk-container-id-3 div.sk-container {/* jupyter's `normalize.less` sets `[hidden] { display: none; }` but bootstrap.min.css set `[hidden] { display: none !important; }` so we also need the `!important` here to be able to override the default hidden behavior on the sphinx rendered scikit-learn.org. See: https://github.com/scikit-learn/scikit-learn/issues/21755 */display: inline-block !important;position: relative;}#sk-container-id-3 div.sk-text-repr-fallback {display: none;}</style><div id=\"sk-container-id-3\" class=\"sk-top-container\"><div class=\"sk-text-repr-fallback\"><pre>GridSearchCV(cv=KFold(n_splits=5, random_state=15, shuffle=True),\n",
       "             estimator=SVC(C=2, random_state=42), param_grid={}, verbose=3)</pre><b>In a Jupyter environment, please rerun this cell to show the HTML representation or trust the notebook. <br />On GitHub, the HTML representation is unable to render, please try loading this page with nbviewer.org.</b></div><div class=\"sk-container\" hidden><div class=\"sk-item sk-dashed-wrapped\"><div class=\"sk-label-container\"><div class=\"sk-label sk-toggleable\"><input class=\"sk-toggleable__control sk-hidden--visually\" id=\"sk-estimator-id-7\" type=\"checkbox\" ><label for=\"sk-estimator-id-7\" class=\"sk-toggleable__label sk-toggleable__label-arrow\">GridSearchCV</label><div class=\"sk-toggleable__content\"><pre>GridSearchCV(cv=KFold(n_splits=5, random_state=15, shuffle=True),\n",
       "             estimator=SVC(C=2, random_state=42), param_grid={}, verbose=3)</pre></div></div></div><div class=\"sk-parallel\"><div class=\"sk-parallel-item\"><div class=\"sk-item\"><div class=\"sk-label-container\"><div class=\"sk-label sk-toggleable\"><input class=\"sk-toggleable__control sk-hidden--visually\" id=\"sk-estimator-id-8\" type=\"checkbox\" ><label for=\"sk-estimator-id-8\" class=\"sk-toggleable__label sk-toggleable__label-arrow\">estimator: SVC</label><div class=\"sk-toggleable__content\"><pre>SVC(C=2, random_state=42)</pre></div></div></div><div class=\"sk-serial\"><div class=\"sk-item\"><div class=\"sk-estimator sk-toggleable\"><input class=\"sk-toggleable__control sk-hidden--visually\" id=\"sk-estimator-id-9\" type=\"checkbox\" ><label for=\"sk-estimator-id-9\" class=\"sk-toggleable__label sk-toggleable__label-arrow\">SVC</label><div class=\"sk-toggleable__content\"><pre>SVC(C=2, random_state=42)</pre></div></div></div></div></div></div></div></div></div></div>"
      ],
      "text/plain": [
       "GridSearchCV(cv=KFold(n_splits=5, random_state=15, shuffle=True),\n",
       "             estimator=SVC(C=2, random_state=42), param_grid={}, verbose=3)"
      ]
     },
     "execution_count": 12,
     "metadata": {},
     "output_type": "execute_result"
    }
   ],
   "source": [
    "# has choose the best parameters\n",
    "param_grid = {}\n",
    "\n",
    "grid_only_svm = GridSearchCV(estimator=SVC(C=2,degree=3,random_state=42),param_grid=param_grid, cv=cv,verbose=3)\n",
    "\n",
    "grid_auto_svm = GridSearchCV(estimator=SVC(C=2,degree=3,random_state=42),param_grid=param_grid, cv=cv,verbose=3)\n",
    "\n",
    "# fit the only SVM method\n",
    "grid_only_svm.fit(X_train_only,y_train_only)\n",
    "\n",
    "# fit the autoencoder+SVM method\n",
    "grid_auto_svm.fit(X_train_encoder, y_train_encoder)"
   ]
  },
  {
   "cell_type": "markdown",
   "id": "d63a6695",
   "metadata": {},
   "source": [
    "Generate the result"
   ]
  },
  {
   "cell_type": "code",
   "execution_count": 13,
   "id": "18ed5092",
   "metadata": {},
   "outputs": [
    {
     "name": "stdout",
     "output_type": "stream",
     "text": [
      "0.6777777777777778 0.75\n",
      "0.6554584304584304 0.688986013986014\n",
      "only SVM method report\n",
      "              precision    recall  f1-score   support\n",
      "\n",
      "           1       0.60      0.68      0.64        53\n",
      "           2       1.00      0.23      0.38        13\n",
      "           3       0.93      0.79      0.86        53\n",
      "           4       0.57      0.67      0.62        61\n",
      "\n",
      "    accuracy                           0.68       180\n",
      "   macro avg       0.78      0.59      0.62       180\n",
      "weighted avg       0.72      0.68      0.68       180\n",
      "\n",
      "autoencoder+SVM method report\n",
      "              precision    recall  f1-score   support\n",
      "\n",
      "           1       0.64      0.68      0.66        53\n",
      "           2       0.86      0.46      0.60        13\n",
      "           3       0.98      0.96      0.97        53\n",
      "           4       0.65      0.69      0.67        61\n",
      "\n",
      "    accuracy                           0.75       180\n",
      "   macro avg       0.78      0.70      0.72       180\n",
      "weighted avg       0.76      0.75      0.75       180\n",
      "\n"
     ]
    }
   ],
   "source": [
    "# show the best score\n",
    "final_score1 = grid_only_svm.best_estimator_.score(X_test_only,y_test_only)\n",
    "\n",
    "final_score2 = grid_auto_svm.best_estimator_.score(X_test_encoder, y_test_encoder)\n",
    "\n",
    "print(final_score1, final_score2)\n",
    "\n",
    "# show the average best score in 5 Kfold\n",
    "print(grid_only_svm.best_score_, grid_auto_svm.best_score_)\n",
    "\n",
    "# show detailed teport\n",
    "print(\"only SVM method report\")\n",
    "print(classification_report(y_test_only, grid_only_svm.predict(X_test_only)))\n",
    "\n",
    "print(\"autoencoder+SVM method report\")\n",
    "print(classification_report(y_test_encoder, grid_auto_svm.predict(X_test_encoder)))"
   ]
  },
  {
   "cell_type": "markdown",
   "id": "2e3703ab",
   "metadata": {},
   "source": [
    "Draw the graph"
   ]
  },
  {
   "cell_type": "code",
   "execution_count": 14,
   "id": "7fda4c6f",
   "metadata": {},
   "outputs": [
    {
     "data": {
      "image/png": "[encoded data removed]",
      "text/plain": [
       "<Figure size 432x288 with 1 Axes>"
      ]
     },
     "metadata": {
      "needs_background": "light"
     },
     "output_type": "display_data"
    }
   ],
   "source": [
    "Kfold_score_name = [\"split0_test_score\", \"split1_test_score\", \"split2_test_score\", \"split3_test_score\", \"split4_test_score\"]\n",
    "#print(grid_only_knn.cv_results_)\n",
    "y_accuracy_only_svm = np.array(itemgetter(*Kfold_score_name)(grid_only_svm.cv_results_)).reshape(1,5).flatten()\n",
    "x_kfold = [0, 1, 2, 3, 4]\n",
    "\n",
    "y_accuracy_auto_svm = np.array(itemgetter(*Kfold_score_name)(grid_auto_svm.cv_results_)).reshape(1,5).flatten()\n",
    "\n",
    "#print(grid_only_knn.cv_results_[\"split0_test_score\"])\n",
    "\n",
    "plt.figure(\"Compare Random Forest and autoencoder+Random Forest\")\n",
    "plt.plot(x_kfold, y_accuracy_only_svm, 'g+-', label='SVM')\n",
    "\n",
    "plt.plot(x_kfold, y_accuracy_auto_svm, 'bo-', label='autoencoder+SVM')\n",
    "plt.legend()\n",
    "plt.xticks(np.arange(0,5,1))\n",
    "plt.xlabel('Kfold')\n",
    "plt.ylabel('Accuracy score')\n",
    "plt.title(\"Compare SVM and autoencoder+SVM\")\n",
    "plt.show()"
   ]
  },
  {
   "cell_type": "markdown",
   "id": "082e9480",
   "metadata": {},
   "source": [
    "## Compare Random Forest and autoencoder+Random Forest"
   ]
  },
  {
   "cell_type": "markdown",
   "id": "2d2e6ff2",
   "metadata": {},
   "source": [
    "**<font>\n",
    "Normally in all common classification methods, the random forests could reach the highest accuracy. And it could also easily handle huge input data with numerous variables in a short time and automatically balance the dataset when it owns some rare labels. Therefore, we choose random forest as our last traditional machine learning algorithm for comparison.\n",
    "</font>**\n",
    "\n",
    "**<font>\n",
    "In the four classical machine learning algorithms, the same normalization and normalization is performed on the input data, which helps us to summarize and analyze the performance of different conventional machine learning algorithms.\n",
    "</font>**"
   ]
  },
  {
   "cell_type": "code",
   "execution_count": 15,
   "id": "b0eaefe0",
   "metadata": {},
   "outputs": [
    {
     "name": "stdout",
     "output_type": "stream",
     "text": [
      "Fitting 5 folds for each of 1 candidates, totalling 5 fits\n",
      "[CV 1/5] END ..................................., score=0.750 total time=   3.1s\n",
      "[CV 2/5] END ..................................., score=0.653 total time=   3.2s\n",
      "[CV 3/5] END ..................................., score=0.720 total time=   3.3s\n",
      "[CV 4/5] END ..................................., score=0.678 total time=   3.2s\n",
      "[CV 5/5] END ..................................., score=0.622 total time=   3.2s\n",
      "Fitting 5 folds for each of 1 candidates, totalling 5 fits\n",
      "[CV 1/5] END ..................................., score=0.708 total time=   0.6s\n",
      "[CV 2/5] END ..................................., score=0.667 total time=   0.6s\n",
      "[CV 3/5] END ..................................., score=0.720 total time=   0.6s\n",
      "[CV 4/5] END ..................................., score=0.734 total time=   0.6s\n",
      "[CV 5/5] END ..................................., score=0.664 total time=   0.6s\n"
     ]
    },
    {
     "data": {
      "text/html": [
       "<style>#sk-container-id-4 {color: black;background-color: white;}#sk-container-id-4 pre{padding: 0;}#sk-container-id-4 div.sk-toggleable {background-color: white;}#sk-container-id-4 label.sk-toggleable__label {cursor: pointer;display: block;width: 100%;margin-bottom: 0;padding: 0.3em;box-sizing: border-box;text-align: center;}#sk-container-id-4 label.sk-toggleable__label-arrow:before {content: \"▸\";float: left;margin-right: 0.25em;color: #696969;}#sk-container-id-4 label.sk-toggleable__label-arrow:hover:before {color: black;}#sk-container-id-4 div.sk-estimator:hover label.sk-toggleable__label-arrow:before {color: black;}#sk-container-id-4 div.sk-toggleable__content {max-height: 0;max-width: 0;overflow: hidden;text-align: left;background-color: #f0f8ff;}#sk-container-id-4 div.sk-toggleable__content pre {margin: 0.2em;color: black;border-radius: 0.25em;background-color: #f0f8ff;}#sk-container-id-4 input.sk-toggleable__control:checked~div.sk-toggleable__content {max-height: 200px;max-width: 100%;overflow: auto;}#sk-container-id-4 input.sk-toggleable__control:checked~label.sk-toggleable__label-arrow:before {content: \"▾\";}#sk-container-id-4 div.sk-estimator input.sk-toggleable__control:checked~label.sk-toggleable__label {background-color: #d4ebff;}#sk-container-id-4 div.sk-label input.sk-toggleable__control:checked~label.sk-toggleable__label {background-color: #d4ebff;}#sk-container-id-4 input.sk-hidden--visually {border: 0;clip: rect(1px 1px 1px 1px);clip: rect(1px, 1px, 1px, 1px);height: 1px;margin: -1px;overflow: hidden;padding: 0;position: absolute;width: 1px;}#sk-container-id-4 div.sk-estimator {font-family: monospace;background-color: #f0f8ff;border: 1px dotted black;border-radius: 0.25em;box-sizing: border-box;margin-bottom: 0.5em;}#sk-container-id-4 div.sk-estimator:hover {background-color: #d4ebff;}#sk-container-id-4 div.sk-parallel-item::after {content: \"\";width: 100%;border-bottom: 1px solid gray;flex-grow: 1;}#sk-container-id-4 div.sk-label:hover label.sk-toggleable__label {background-color: #d4ebff;}#sk-container-id-4 div.sk-serial::before {content: \"\";position: absolute;border-left: 1px solid gray;box-sizing: border-box;top: 0;bottom: 0;left: 50%;z-index: 0;}#sk-container-id-4 div.sk-serial {display: flex;flex-direction: column;align-items: center;background-color: white;padding-right: 0.2em;padding-left: 0.2em;position: relative;}#sk-container-id-4 div.sk-item {position: relative;z-index: 1;}#sk-container-id-4 div.sk-parallel {display: flex;align-items: stretch;justify-content: center;background-color: white;position: relative;}#sk-container-id-4 div.sk-item::before, #sk-container-id-4 div.sk-parallel-item::before {content: \"\";position: absolute;border-left: 1px solid gray;box-sizing: border-box;top: 0;bottom: 0;left: 50%;z-index: -1;}#sk-container-id-4 div.sk-parallel-item {display: flex;flex-direction: column;z-index: 1;position: relative;background-color: white;}#sk-container-id-4 div.sk-parallel-item:first-child::after {align-self: flex-end;width: 50%;}#sk-container-id-4 div.sk-parallel-item:last-child::after {align-self: flex-start;width: 50%;}#sk-container-id-4 div.sk-parallel-item:only-child::after {width: 0;}#sk-container-id-4 div.sk-dashed-wrapped {border: 1px dashed gray;margin: 0 0.4em 0.5em 0.4em;box-sizing: border-box;padding-bottom: 0.4em;background-color: white;}#sk-container-id-4 div.sk-label label {font-family: monospace;font-weight: bold;display: inline-block;line-height: 1.2em;}#sk-container-id-4 div.sk-label-container {text-align: center;}#sk-container-id-4 div.sk-container {/* jupyter's `normalize.less` sets `[hidden] { display: none; }` but bootstrap.min.css set `[hidden] { display: none !important; }` so we also need the `!important` here to be able to override the default hidden behavior on the sphinx rendered scikit-learn.org. See: https://github.com/scikit-learn/scikit-learn/issues/21755 */display: inline-block !important;position: relative;}#sk-container-id-4 div.sk-text-repr-fallback {display: none;}</style><div id=\"sk-container-id-4\" class=\"sk-top-container\"><div class=\"sk-text-repr-fallback\"><pre>GridSearchCV(cv=KFold(n_splits=5, random_state=15, shuffle=True),\n",
       "             estimator=RandomForestClassifier(class_weight=&#x27;balanced&#x27;,\n",
       "                                              criterion=&#x27;entropy&#x27;, max_depth=15,\n",
       "                                              min_samples_split=5,\n",
       "                                              n_estimators=200,\n",
       "                                              random_state=15),\n",
       "             param_grid={}, verbose=3)</pre><b>In a Jupyter environment, please rerun this cell to show the HTML representation or trust the notebook. <br />On GitHub, the HTML representation is unable to render, please try loading this page with nbviewer.org.</b></div><div class=\"sk-container\" hidden><div class=\"sk-item sk-dashed-wrapped\"><div class=\"sk-label-container\"><div class=\"sk-label sk-toggleable\"><input class=\"sk-toggleable__control sk-hidden--visually\" id=\"sk-estimator-id-10\" type=\"checkbox\" ><label for=\"sk-estimator-id-10\" class=\"sk-toggleable__label sk-toggleable__label-arrow\">GridSearchCV</label><div class=\"sk-toggleable__content\"><pre>GridSearchCV(cv=KFold(n_splits=5, random_state=15, shuffle=True),\n",
       "             estimator=RandomForestClassifier(class_weight=&#x27;balanced&#x27;,\n",
       "                                              criterion=&#x27;entropy&#x27;, max_depth=15,\n",
       "                                              min_samples_split=5,\n",
       "                                              n_estimators=200,\n",
       "                                              random_state=15),\n",
       "             param_grid={}, verbose=3)</pre></div></div></div><div class=\"sk-parallel\"><div class=\"sk-parallel-item\"><div class=\"sk-item\"><div class=\"sk-label-container\"><div class=\"sk-label sk-toggleable\"><input class=\"sk-toggleable__control sk-hidden--visually\" id=\"sk-estimator-id-11\" type=\"checkbox\" ><label for=\"sk-estimator-id-11\" class=\"sk-toggleable__label sk-toggleable__label-arrow\">estimator: RandomForestClassifier</label><div class=\"sk-toggleable__content\"><pre>RandomForestClassifier(class_weight=&#x27;balanced&#x27;, criterion=&#x27;entropy&#x27;,\n",
       "                       max_depth=15, min_samples_split=5, n_estimators=200,\n",
       "                       random_state=15)</pre></div></div></div><div class=\"sk-serial\"><div class=\"sk-item\"><div class=\"sk-estimator sk-toggleable\"><input class=\"sk-toggleable__control sk-hidden--visually\" id=\"sk-estimator-id-12\" type=\"checkbox\" ><label for=\"sk-estimator-id-12\" class=\"sk-toggleable__label sk-toggleable__label-arrow\">RandomForestClassifier</label><div class=\"sk-toggleable__content\"><pre>RandomForestClassifier(class_weight=&#x27;balanced&#x27;, criterion=&#x27;entropy&#x27;,\n",
       "                       max_depth=15, min_samples_split=5, n_estimators=200,\n",
       "                       random_state=15)</pre></div></div></div></div></div></div></div></div></div></div>"
      ],
      "text/plain": [
       "GridSearchCV(cv=KFold(n_splits=5, random_state=15, shuffle=True),\n",
       "             estimator=RandomForestClassifier(class_weight='balanced',\n",
       "                                              criterion='entropy', max_depth=15,\n",
       "                                              min_samples_split=5,\n",
       "                                              n_estimators=200,\n",
       "                                              random_state=15),\n",
       "             param_grid={}, verbose=3)"
      ]
     },
     "execution_count": 15,
     "metadata": {},
     "output_type": "execute_result"
    }
   ],
   "source": [
    "# has choose the best parameters\n",
    "param_grid = {}\n",
    "\n",
    "grid_only_rf = GridSearchCV(estimator=RandomForestClassifier(criterion=\"entropy\",class_weight=\"balanced\",min_samples_split=5,max_depth=15,n_estimators=200,random_state=15)\n",
    "                            ,param_grid=param_grid, cv=cv,verbose=3)\n",
    "#criterion=\"entropy\",class_weight=\"balanced\",min_samples_split=5,max_depth=15,n_estimators=200, 0.76\n",
    "grid_auto_rf = GridSearchCV(estimator=RandomForestClassifier(criterion=\"entropy\",class_weight=\"balanced\",min_samples_split=5,max_depth=15,n_estimators=200,random_state=15)\n",
    "                            ,param_grid=param_grid, cv=cv,verbose=3)\n",
    "\n",
    "# fit the only Random Forest method\n",
    "grid_only_rf.fit(X_train_only,y_train_only)\n",
    "\n",
    "# fit the autoencoder+Random Forest method\n",
    "grid_auto_rf.fit(X_train_encoder, y_train_encoder)"
   ]
  },
  {
   "cell_type": "markdown",
   "id": "0f4da1c9",
   "metadata": {},
   "source": [
    "Generate the result"
   ]
  },
  {
   "cell_type": "code",
   "execution_count": 16,
   "id": "4bc420d5",
   "metadata": {},
   "outputs": [
    {
     "name": "stdout",
     "output_type": "stream",
     "text": [
      "0.7166666666666667 0.7444444444444445\n",
      "0.6847513597513598 0.6987762237762238\n",
      "only Random Forest method report\n",
      "              precision    recall  f1-score   support\n",
      "\n",
      "           1       0.61      0.64      0.62        53\n",
      "           2       0.50      0.23      0.32        13\n",
      "           3       0.94      0.96      0.95        53\n",
      "           4       0.64      0.67      0.66        61\n",
      "\n",
      "    accuracy                           0.72       180\n",
      "   macro avg       0.67      0.63      0.64       180\n",
      "weighted avg       0.71      0.72      0.71       180\n",
      "\n",
      "autoencoder+Random Forest method report\n",
      "              precision    recall  f1-score   support\n",
      "\n",
      "           1       0.66      0.72      0.68        53\n",
      "           2       0.83      0.38      0.53        13\n",
      "           3       0.90      0.98      0.94        53\n",
      "           4       0.67      0.64      0.66        61\n",
      "\n",
      "    accuracy                           0.74       180\n",
      "   macro avg       0.76      0.68      0.70       180\n",
      "weighted avg       0.74      0.74      0.74       180\n",
      "\n"
     ]
    }
   ],
   "source": [
    "# show the best score\n",
    "final_score1 = grid_only_rf.best_estimator_.score(X_test_only,y_test_only)\n",
    "\n",
    "final_score2 = grid_auto_rf.best_estimator_.score(X_test_encoder, y_test_encoder)\n",
    "\n",
    "print(final_score1, final_score2)\n",
    "\n",
    "# show the average best score in 5 Kfold\n",
    "print(grid_only_rf.best_score_, grid_auto_rf.best_score_)\n",
    "\n",
    "# show detailed teport\n",
    "print(\"only Random Forest method report\")\n",
    "print(classification_report(y_test_only, grid_only_rf.predict(X_test_only)))\n",
    "\n",
    "print(\"autoencoder+Random Forest method report\")\n",
    "print(classification_report(y_test_encoder, grid_auto_rf.predict(X_test_encoder)))"
   ]
  },
  {
   "cell_type": "markdown",
   "id": "c0ceb6bc",
   "metadata": {},
   "source": [
    "Draw the graph"
   ]
  },
  {
   "cell_type": "code",
   "execution_count": 17,
   "id": "089c3974",
   "metadata": {},
   "outputs": [
    {
     "data": {
      "image/png": "[encoded data removed]",
      "text/plain": [
       "<Figure size 432x288 with 1 Axes>"
      ]
     },
     "metadata": {
      "needs_background": "light"
     },
     "output_type": "display_data"
    }
   ],
   "source": [
    "Kfold_score_name = [\"split0_test_score\", \"split1_test_score\", \"split2_test_score\", \"split3_test_score\", \"split4_test_score\"]\n",
    "#print(grid_only_knn.cv_results_)\n",
    "y_accuracy_only_rf = np.array(itemgetter(*Kfold_score_name)(grid_only_rf.cv_results_)).reshape(1,5).flatten()\n",
    "x_kfold = [0, 1, 2, 3, 4]\n",
    "\n",
    "y_accuracy_auto_rf = np.array(itemgetter(*Kfold_score_name)(grid_auto_rf.cv_results_)).reshape(1,5).flatten()\n",
    "\n",
    "#print(grid_only_knn.cv_results_[\"split0_test_score\"])\n",
    "\n",
    "plt.figure(\"Compare Random Forest and autoencoder+Random Forest\")\n",
    "plt.plot(x_kfold, y_accuracy_only_rf, 'g+-', label='Random Forest')\n",
    "\n",
    "plt.plot(x_kfold, y_accuracy_auto_rf, 'bo-', label='autoencoder+Random Forest')\n",
    "plt.legend()\n",
    "plt.xticks(np.arange(0,5,1))\n",
    "plt.xlabel('Kfold')\n",
    "plt.ylabel('Accuracy score')\n",
    "plt.title(\"Compare Random Forest and autoencoder+Random Forest\")\n",
    "plt.show()"
   ]
  },
  {
   "cell_type": "markdown",
   "id": "6d307de0",
   "metadata": {},
   "source": [
    "## The hyperparameters of autoencoder\n",
    "Normally this code will not be running. If you want to train autoencoder model, you could commit the if and else code"
   ]
  },
  {
   "cell_type": "markdown",
   "id": "0f8418b6",
   "metadata": {},
   "source": [
    "**<font>\n",
    "In the previous tests, we encountered many problems. For example, the classification performance of the KNN algorithm is too poor, and logistic regression and random forests require a long calculation time when large-scale images are used as input. Therefore, in order to optimize the computation time and properly improve the accuracy, it is necessary to choose an appropriate dimensionality reduction method. The dimensionality reduction method is used to extract the features in the picture, and the features are used as the input of the above model, and the performance of different traditional models is compared under the same parameters.\n",
    "</font>**\n",
    "\n",
    "**<font>\n",
    "It is worth noting that the visualization of classification after simply reducing the dimensionality of the data to two or three dimensions is not ideal. The main reason is that we do not have a clear standard for the damage labeled as other, and the proportion of these pictures is small. The pictures defined as other damage will be randomly distributed among the other three fault types after dimensionality reduction, which leads to a significant reduction in the accuracy of the model classification. A picture of its visualization can be seen in tsne dimensionality reduction in data calibration.\n",
    "</font>**\n",
    "\n",
    "**<font>\n",
    "Obviously, common nonlinear dimensionality reduction algorithms such as t-sne are not suitable for our current needs. Therefore, we decided to design our own autoencoder model to reduce the data to 64-dimensional features. In addition, in order to reflect the classicality and limitations of traditional machine learning algorithms, the autoencoder model is designed without adding convolutional layers. The hyperparameters of autoencoder could be seen in code.\n",
    "</font>**\n"
   ]
  },
  {
   "cell_type": "code",
   "execution_count": 18,
   "id": "a67fb3de",
   "metadata": {},
   "outputs": [
    {
     "name": "stdout",
     "output_type": "stream",
     "text": [
      "(897, 3300)\n"
     ]
    }
   ],
   "source": [
    "bottleneck_size = 64\n",
    "\n",
    "input_img = Input(shape=(3300,))\n",
    "\n",
    "\n",
    "encoded = Dense(2048, activation='relu')(input_img)\n",
    "encoded = Dense(512, activation='relu')(encoded)\n",
    "encoded = Dense(bottleneck_size, activation='linear')(encoded)\n",
    "encoder = Model(input_img, encoded)\n",
    "\n",
    "\n",
    "encoded_input = Input(shape=(bottleneck_size,))\n",
    "decoded = Dense(512, activation='relu')(encoded_input)\n",
    "decoded = Dense(2048, activation='relu')(decoded)\n",
    "decoded = Dense(3300, activation='sigmoid')(decoded)\n",
    "\n",
    "\n",
    "decoder = Model(encoded_input, decoded)\n",
    "\n",
    "full = decoder(encoder(input_img))\n",
    "ae = Model(input_img, full)\n",
    "ae.compile(optimizer='adam', loss='mse')\n",
    "\n",
    "\n",
    "X = np.loadtxt(\"data.txt\")\n",
    "\n",
    "print(X.shape)\n",
    "\n",
    "dataLabel = pd.read_csv(\"label0-896.csv\")\n",
    "\n",
    "y = dataLabel.loc[:, \"human_label\"]\n",
    "\n",
    "X_train, X_test, y_train, y_test = train_test_split(X, y, test_size=0.4, random_state=36)\n",
    "\n",
    "X_train = X_train.astype('float32')\n",
    "X_test = X_test.astype('float32')\n",
    "\n",
    "\n",
    "if \"encoder.h5\" in os.listdir():\n",
    "    #ae = load_model('model.h5')\n",
    "    encoder = load_model('encoder.h5')\n",
    "    #decoder = load_model('decoder.h5')\n",
    "else:\n",
    "    ae.fit(X_train, X_train, \n",
    "        epochs = 500,\n",
    "        batch_size = 256,\n",
    "        shuffle=True,\n",
    "        validation_data=(X_test, X_test),\n",
    "        max_queue_size=10)\n",
    "    #ae.save('model.h5')\n",
    "    encoder.save('encoder.h5')\n",
    "    #decoder.save('decoder.h5')\n",
    "\n"
   ]
  },
  {
   "cell_type": "markdown",
   "id": "e6ea11e7",
   "metadata": {},
   "source": [
    "## Result and Restriction to the conventional algorithm\n",
    "**<font>\n",
    "As we thought, in the case of data dimensionality reduction without using autoencoder, among the traditional algorithms, the random forest algorithm has the highest classification accuracy. At the same time, in view of the problems encountered by traditional algorithms in practice, such as the low accuracy of KNN, and the long calculation time required for logistic regression and random forest algorithms. The data after dimensionality reduction through autoencoder greatly improves the accuracy of KNN algorithm identification, greatly reduces the time required for the calculation of logistic regression and random forest algorithms, and also improves the classification accuracy of other traditional machine learning model algorithms(More detailed results can be seen in the jupyter notebook file on gitlab).\n",
    "</font>**\n",
    "\n",
    "**<font>\n",
    "However, we also noticed the limitations of traditional algorithms. The autoencoder data dimensionality reduction model significantly improves the accuracy of traditional machine learning models with low initial classification accuracy. And it is difficult to further more improve the accuracy after 70%. The reason is that traditional machine learning algorithms rarely perform convolution operations to extract local features of objects, and the efficiency of summarizing and extracting image feature information is low.\n",
    "</font>**"
   ]
  }
 ],
 "metadata": {
  "kernelspec": {
   "display_name": "Python 3",
   "language": "python",
   "name": "python3"
  },
  "language_info": {
   "codemirror_mode": {
    "name": "ipython",
    "version": 3
   },
   "file_extension": ".py",
   "mimetype": "text/x-python",
   "name": "python",
   "nbconvert_exporter": "python",
   "pygments_lexer": "ipython3",
   "version": "3.8.8"
  }
 },
 "nbformat": 4,
 "nbformat_minor": 5
}
